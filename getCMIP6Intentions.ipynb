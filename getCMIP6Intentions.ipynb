{
 "cells": [
  {
   "cell_type": "markdown",
   "id": "4dc5eecd-ad58-4f49-891f-ba47ef45054f",
   "metadata": {},
   "source": [
    "# Extract CMIP6 source_id, experiment_id entries, intentions, tiers, etc"
   ]
  },
  {
   "cell_type": "raw",
   "id": "953f46c6-9baa-45b6-9714-f8f499b8ecb0",
   "metadata": {},
   "source": [
    "PJD  6 Dec 2021 - Query source_id and experiment_id files for intentions\n",
    "PJD 23 Sep 2023 - Updated to capture average actId count per model\n",
    " - sourced from file ~/sync/Docs/admin/LLNL/23/230728_CMIPPanel-NewYork-Sep23/getCMIP6Intentions.py"
   ]
  },
  {
   "cell_type": "markdown",
   "id": "82199df1-d581-4b6a-8d0e-1e3786964635",
   "metadata": {},
   "source": [
    "## imports"
   ]
  },
  {
   "cell_type": "code",
   "execution_count": 18,
   "id": "b9333f33-0572-4c9d-92ea-a25992cda6e8",
   "metadata": {},
   "outputs": [],
   "source": [
    "# import pdb\n",
    "import operator\n",
    "import sys\n",
    "\n",
    "sys.path.insert(0, \"~/sync/git/durolib/durolib\")  # trustym\n",
    "from durolib import readJsonCreateDict"
   ]
  },
  {
   "cell_type": "markdown",
   "id": "f3a1c42e-a34c-4bf3-9560-031fb9b11f77",
   "metadata": {},
   "source": [
    "## load from CMIP6_CVs: experiment_id, source_id"
   ]
  },
  {
   "cell_type": "code",
   "execution_count": 19,
   "id": "319b3ced-4dde-43a9-8f9c-d6649e8b282c",
   "metadata": {},
   "outputs": [],
   "source": [
    "# %% json load\n",
    "tmp = [\n",
    "    [\n",
    "        \"source_id\",\n",
    "        \"https://raw.githubusercontent.com/WCRP-CMIP/CMIP6_CVs/master/CMIP6_source_id.json\",\n",
    "    ]\n",
    "]\n",
    "srcId = readJsonCreateDict(tmp)\n",
    "srcId = srcId.get(\"source_id\")\n",
    "srcId = srcId.get(\"source_id\")  # Fudge to extract duplicate level\n",
    "del tmp\n",
    "\n",
    "tmp = [\n",
    "    [\n",
    "        \"experiment_id\",\n",
    "        \"https://raw.githubusercontent.com/WCRP-CMIP/CMIP6_CVs/master/CMIP6_experiment_id.json\",\n",
    "    ]\n",
    "]\n",
    "expId = readJsonCreateDict(tmp)\n",
    "expId = expId.get(\"experiment_id\")\n",
    "expId = expId.get(\"experiment_id\")  # Fudge to extract duplicate level\n",
    "del tmp"
   ]
  },
  {
   "cell_type": "markdown",
   "id": "548a1297-e40c-40f5-9fd9-2192d8a9b306",
   "metadata": {},
   "source": [
    "## loops source_id"
   ]
  },
  {
   "cell_type": "code",
   "execution_count": 20,
   "id": "6e1f042a-e1c3-436b-9584-c850835a7609",
   "metadata": {},
   "outputs": [],
   "source": [
    "actId = {}\n",
    "srcIds = {}\n",
    "for count1, mod in enumerate(srcId.keys()):\n",
    "    # print(count1, mod)\n",
    "    actIds = srcId[mod][\"activity_participation\"]\n",
    "    # add actId count to srcIds\n",
    "    srcIds[mod] = len(actIds)\n",
    "    # process actId\n",
    "    for count2, act in enumerate(actIds):\n",
    "        # print(count2, act)\n",
    "        if act not in actId.keys():\n",
    "            actId[act] = 1\n",
    "        else:\n",
    "            actId[act] = actId[act] + 1\n",
    "        # pdb.set_trace()"
   ]
  },
  {
   "cell_type": "markdown",
   "id": "b1681d17-29c2-4341-b0d3-ef7fa3daea9b",
   "metadata": {},
   "source": [
    "## print activity_id entries to console"
   ]
  },
  {
   "cell_type": "code",
   "execution_count": 21,
   "id": "4a4525a6-c827-4201-8f1b-75a3d8dd05fe",
   "metadata": {},
   "outputs": [
    {
     "name": "stdout",
     "output_type": "stream",
     "text": [
      "[('CMIP', 95), ('ScenarioMIP', 61), ('HighResMIP', 48), ('OMIP', 44), ('RFMIP', 36), ('DAMIP', 28), ('PMIP', 28), ('GMMIP', 26), ('C4MIP', 24), ('SIMIP', 23), ('CFMIP', 23), ('DCPP', 23), ('LUMIP', 22), ('LS3MIP', 22), ('AerChemMIP', 22), ('DynVarMIP', 22), ('FAFMIP', 20), ('PAMIP', 18), ('VolMIP', 16), ('CDRMIP', 15), ('CORDEX', 14), ('VIACSAB', 14), ('GeoMIP', 14), ('ISMIP6', 10)]\n",
      "0 CMIP 95\n",
      "1 ScenarioMIP 61\n",
      "2 HighResMIP 48\n",
      "3 OMIP 44\n",
      "4 RFMIP 36\n",
      "5 DAMIP 28\n",
      "6 PMIP 28\n",
      "7 GMMIP 26\n",
      "8 C4MIP 24\n",
      "9 SIMIP 23\n",
      "10 CFMIP 23\n",
      "11 DCPP 23\n",
      "12 LUMIP 22\n",
      "13 LS3MIP 22\n",
      "14 AerChemMIP 22\n",
      "15 DynVarMIP 22\n",
      "16 FAFMIP 20\n",
      "17 PAMIP 18\n",
      "18 VolMIP 16\n",
      "19 CDRMIP 15\n",
      "20 CORDEX 14\n",
      "21 VIACSAB 14\n",
      "22 GeoMIP 14\n",
      "23 ISMIP6 10\n"
     ]
    }
   ],
   "source": [
    "# %% print actIds to console\n",
    "sorted_actId = sorted(actId.items(), key=operator.itemgetter(1), reverse=True)\n",
    "print(sorted_actId)\n",
    "for count, act in enumerate(sorted_actId):\n",
    "    print(count, str(act[0]), act[1])"
   ]
  },
  {
   "cell_type": "markdown",
   "id": "85f91c66-2595-486c-988b-3574e630075c",
   "metadata": {},
   "source": [
    "## print source_id entries to console"
   ]
  },
  {
   "cell_type": "code",
   "execution_count": 22,
   "id": "6ad71131-a6c6-499b-b715-0683bcbd9ddd",
   "metadata": {},
   "outputs": [
    {
     "name": "stdout",
     "output_type": "stream",
     "text": [
      "[('CESM2', 25), ('CanESM5', 21), ('CanESM5-1', 21), ('CAS-ESM2-0', 20), ('GISS-E2-1-G', 19), ('GISS-E3-G', 19), ('MPI-ESM1-2-LR', 19), ('GISS-E2-2-G', 18), ('IPSL-CM6A-LR', 18), ('MRI-ESM2-0', 18), ('MIROC6', 16), ('CNRM-CM6-1', 14), ('EC-Earth3', 14), ('NorESM2-LM', 14), ('UKESM1-0-LL', 13), ('CNRM-ESM2-1', 12), ('MIROC-ES2L', 12), ('FGOALS-g3', 11), ('MPI-ESM1-2-HR', 11), ('BCC-CSM2-MR', 10), ('GFDL-ESM4', 10), ('HadGEM3-GC31-LL', 10), ('ACCESS-ESM1-5', 9), ('FGOALS-f3-L', 9), ('GFDL-CM4', 9), ('CIESM', 8), ('HadGEM3-GC31-MM', 8), ('NESM3', 8), ('TaiESM1', 8), ('ACCESS-CM2', 7), ('AWI-CM-1-1-LR', 7), ('AWI-CM-1-1-MR', 7), ('EC-Earth3-CC', 7), ('MIROC-ES2H', 7), ('NorESM2-MM', 7), ('AWI-CM-1-1-HR', 6), ('CMCC-ESM2', 6), ('CNRM-CM6-1-HR', 6), ('EC-Earth3-Veg', 6), ('FIO-ESM-2-0', 6), ('GISS-E2-1-H', 6), ('CAMS-CSM1-0', 5), ('CESM2-WACCM', 5), ('CMCC-CM2-SR5', 5), ('CanESM5-CanOE', 5), ('E3SM-1-0', 5), ('E3SM-1-1', 5), ('E3SM-2-0', 5), ('KIOST-ESM', 5), ('EC-Earth3-AerChem', 4), ('MCM-UA-1-0', 4), ('MPI-ESM-1-2-HAM', 4), ('CMCC-CM2-HR4', 3), ('E3SM-1-1-ECA', 3), ('EC-Earth3-GrIS', 3), ('EC-Earth3-HR', 3), ('EC-Earth3-Veg-LR', 3), ('FGOALS-f3-H', 3), ('GISS-E2-2-H', 3), ('ICON-ESM-LR', 3), ('IITM-ESM', 3), ('INM-CM4-8', 3), ('IPSL-CM5A2-INCA', 3), ('MRI-AGCM3-2-S', 3), ('NICAM16-7S', 3), ('NICAM16-8S', 3), ('NICAM16-9S', 3), ('AWI-ESM-1-1-LR', 2), ('AWI-ESM-2-1-LR', 2), ('BCC-CSM2-HR', 2), ('BCC-ESM1', 2), ('CESM1-1-CAM5-CMIP5', 2), ('CMCC-CM2-VHR4', 2), ('EC-Earth3-LR', 2), ('EC-Earth3P', 2), ('GISS-E2-1-G-CC', 2), ('HadGEM3-GC31-HH', 2), ('HadGEM3-GC31-HM', 2), ('HadGEM3-GC31-LM', 2), ('HadGEM3-GC31-MH', 2), ('INM-CM5-0', 2), ('INM-CM5-H', 2), ('IPSL-CM6A-LR-INCA', 2), ('KACE-1-0-G', 2), ('MIROC-ES2H-NB', 2), ('MRI-AGCM3-2-H', 2), ('NorCPM1', 2), ('NorESM1-F', 2), ('SAM0-UNICON', 2), ('TaiESM1-TIMCOM', 2), ('TaiESM1-TIMCOM2', 2), ('UKESM1-1-LL', 2), ('4AOP-v1-5', 1), ('ACCESS-OM2', 1), ('ACCESS-OM2-025', 1), ('ARTS-2-3', 1), ('CAM-MPAS-HR', 1), ('CAM-MPAS-LR', 1), ('CESM1-CAM5-SE-HR', 1), ('CESM1-CAM5-SE-LR', 1), ('CESM1-WACCM-SC', 1), ('CESM2-FV2', 1), ('CESM2-WACCM-FV2', 1), ('E3SM-2-0-NARRM', 1), ('EC-Earth3P-HR', 1), ('EC-Earth3P-VHR', 1), ('ECMWF-IFS-HR', 1), ('ECMWF-IFS-LR', 1), ('ECMWF-IFS-MR', 1), ('GFDL-AM4', 1), ('GFDL-CM4C192', 1), ('GFDL-ESM2M', 1), ('GFDL-GRTCODE', 1), ('GFDL-OM4p5B', 1), ('GFDL-RFM-DISORT', 1), ('HiRAM-SIT-HR', 1), ('HiRAM-SIT-LR', 1), ('IPSL-CM6A-ATM-HR', 1), ('IPSL-CM6A-ATM-ICO-HR', 1), ('IPSL-CM6A-ATM-ICO-LR', 1), ('IPSL-CM6A-ATM-ICO-MR', 1), ('IPSL-CM6A-ATM-ICO-VHR', 1), ('IPSL-CM6A-ATM-LR-REPROBUS', 1), ('IPSL-CM6A-MR1', 1), ('LBLRTM-12-8', 1), ('MPI-ESM1-2-XR', 1), ('PCMDI-test-1-0', 1), ('RRTMG-LW-4-91', 1), ('RRTMG-SW-4-02', 1), ('RTE-RRTMGP-181204', 1), ('UKESM1-ice-LL', 1)]\n",
      "0 CESM2 25\n",
      "1 CanESM5 21\n",
      "2 CanESM5-1 21\n",
      "3 CAS-ESM2-0 20\n",
      "4 GISS-E2-1-G 19\n",
      "5 GISS-E3-G 19\n",
      "6 MPI-ESM1-2-LR 19\n",
      "7 GISS-E2-2-G 18\n",
      "8 IPSL-CM6A-LR 18\n",
      "9 MRI-ESM2-0 18\n",
      "10 MIROC6 16\n",
      "11 CNRM-CM6-1 14\n",
      "12 EC-Earth3 14\n",
      "13 NorESM2-LM 14\n",
      "14 UKESM1-0-LL 13\n",
      "15 CNRM-ESM2-1 12\n",
      "16 MIROC-ES2L 12\n",
      "17 FGOALS-g3 11\n",
      "18 MPI-ESM1-2-HR 11\n",
      "19 BCC-CSM2-MR 10\n",
      "20 GFDL-ESM4 10\n",
      "21 HadGEM3-GC31-LL 10\n",
      "22 ACCESS-ESM1-5 9\n",
      "23 FGOALS-f3-L 9\n",
      "24 GFDL-CM4 9\n",
      "25 CIESM 8\n",
      "26 HadGEM3-GC31-MM 8\n",
      "27 NESM3 8\n",
      "28 TaiESM1 8\n",
      "29 ACCESS-CM2 7\n",
      "30 AWI-CM-1-1-LR 7\n",
      "31 AWI-CM-1-1-MR 7\n",
      "32 EC-Earth3-CC 7\n",
      "33 MIROC-ES2H 7\n",
      "34 NorESM2-MM 7\n",
      "35 AWI-CM-1-1-HR 6\n",
      "36 CMCC-ESM2 6\n",
      "37 CNRM-CM6-1-HR 6\n",
      "38 EC-Earth3-Veg 6\n",
      "39 FIO-ESM-2-0 6\n",
      "40 GISS-E2-1-H 6\n",
      "41 CAMS-CSM1-0 5\n",
      "42 CESM2-WACCM 5\n",
      "43 CMCC-CM2-SR5 5\n",
      "44 CanESM5-CanOE 5\n",
      "45 E3SM-1-0 5\n",
      "46 E3SM-1-1 5\n",
      "47 E3SM-2-0 5\n",
      "48 KIOST-ESM 5\n",
      "49 EC-Earth3-AerChem 4\n",
      "50 MCM-UA-1-0 4\n",
      "51 MPI-ESM-1-2-HAM 4\n",
      "52 CMCC-CM2-HR4 3\n",
      "53 E3SM-1-1-ECA 3\n",
      "54 EC-Earth3-GrIS 3\n",
      "55 EC-Earth3-HR 3\n",
      "56 EC-Earth3-Veg-LR 3\n",
      "57 FGOALS-f3-H 3\n",
      "58 GISS-E2-2-H 3\n",
      "59 ICON-ESM-LR 3\n",
      "60 IITM-ESM 3\n",
      "61 INM-CM4-8 3\n",
      "62 IPSL-CM5A2-INCA 3\n",
      "63 MRI-AGCM3-2-S 3\n",
      "64 NICAM16-7S 3\n",
      "65 NICAM16-8S 3\n",
      "66 NICAM16-9S 3\n",
      "67 AWI-ESM-1-1-LR 2\n",
      "68 AWI-ESM-2-1-LR 2\n",
      "69 BCC-CSM2-HR 2\n",
      "70 BCC-ESM1 2\n",
      "71 CESM1-1-CAM5-CMIP5 2\n",
      "72 CMCC-CM2-VHR4 2\n",
      "73 EC-Earth3-LR 2\n",
      "74 EC-Earth3P 2\n",
      "75 GISS-E2-1-G-CC 2\n",
      "76 HadGEM3-GC31-HH 2\n",
      "77 HadGEM3-GC31-HM 2\n",
      "78 HadGEM3-GC31-LM 2\n",
      "79 HadGEM3-GC31-MH 2\n",
      "80 INM-CM5-0 2\n",
      "81 INM-CM5-H 2\n",
      "82 IPSL-CM6A-LR-INCA 2\n",
      "83 KACE-1-0-G 2\n",
      "84 MIROC-ES2H-NB 2\n",
      "85 MRI-AGCM3-2-H 2\n",
      "86 NorCPM1 2\n",
      "87 NorESM1-F 2\n",
      "88 SAM0-UNICON 2\n",
      "89 TaiESM1-TIMCOM 2\n",
      "90 TaiESM1-TIMCOM2 2\n",
      "91 UKESM1-1-LL 2\n",
      "92 4AOP-v1-5 1\n",
      "93 ACCESS-OM2 1\n",
      "94 ACCESS-OM2-025 1\n",
      "95 ARTS-2-3 1\n",
      "96 CAM-MPAS-HR 1\n",
      "97 CAM-MPAS-LR 1\n",
      "98 CESM1-CAM5-SE-HR 1\n",
      "99 CESM1-CAM5-SE-LR 1\n",
      "100 CESM1-WACCM-SC 1\n",
      "101 CESM2-FV2 1\n",
      "102 CESM2-WACCM-FV2 1\n",
      "103 E3SM-2-0-NARRM 1\n",
      "104 EC-Earth3P-HR 1\n",
      "105 EC-Earth3P-VHR 1\n",
      "106 ECMWF-IFS-HR 1\n",
      "107 ECMWF-IFS-LR 1\n",
      "108 ECMWF-IFS-MR 1\n",
      "109 GFDL-AM4 1\n",
      "110 GFDL-CM4C192 1\n",
      "111 GFDL-ESM2M 1\n",
      "112 GFDL-GRTCODE 1\n",
      "113 GFDL-OM4p5B 1\n",
      "114 GFDL-RFM-DISORT 1\n",
      "115 HiRAM-SIT-HR 1\n",
      "116 HiRAM-SIT-LR 1\n",
      "117 IPSL-CM6A-ATM-HR 1\n",
      "118 IPSL-CM6A-ATM-ICO-HR 1\n",
      "119 IPSL-CM6A-ATM-ICO-LR 1\n",
      "120 IPSL-CM6A-ATM-ICO-MR 1\n",
      "121 IPSL-CM6A-ATM-ICO-VHR 1\n",
      "122 IPSL-CM6A-ATM-LR-REPROBUS 1\n",
      "123 IPSL-CM6A-MR1 1\n",
      "124 LBLRTM-12-8 1\n",
      "125 MPI-ESM1-2-XR 1\n",
      "126 PCMDI-test-1-0 1\n",
      "127 RRTMG-LW-4-91 1\n",
      "128 RRTMG-SW-4-02 1\n",
      "129 RTE-RRTMGP-181204 1\n",
      "130 UKESM1-ice-LL 1\n"
     ]
    }
   ],
   "source": [
    "# %% print srcIds to console\n",
    "sorted_srcIds = sorted(srcIds.items(), key=operator.itemgetter(1), reverse=True)\n",
    "print(sorted_srcIds)\n",
    "av = []\n",
    "for count, src in enumerate(sorted_srcIds):\n",
    "    print(count, str(src[0]), src[1])\n",
    "    av.append(src[1])"
   ]
  },
  {
   "cell_type": "markdown",
   "id": "88be9f4e-6727-4cb6-874d-d5e61bf61062",
   "metadata": {},
   "source": [
    "## print averages"
   ]
  },
  {
   "cell_type": "code",
   "execution_count": 23,
   "id": "54b2187a-7f99-4902-a27a-4b7f5c8ed1a1",
   "metadata": {},
   "outputs": [
    {
     "name": "stdout",
     "output_type": "stream",
     "text": [
      "[25, 21, 21, 20, 19, 19, 19, 18, 18, 18, 16, 14, 14, 14, 13, 12, 12, 11, 11, 10, 10, 10, 9, 9, 9, 8, 8, 8, 8, 7, 7, 7, 7, 7, 7, 6, 6, 6, 6, 6, 6, 5, 5, 5, 5, 5, 5, 5, 5, 4, 4, 4, 3, 3, 3, 3, 3, 3, 3, 3, 3, 3, 3, 3, 3, 3, 3, 2, 2, 2, 2, 2, 2, 2, 2, 2, 2, 2, 2, 2, 2, 2, 2, 2, 2, 2, 2, 2, 2, 2, 2, 2, 1, 1, 1, 1, 1, 1, 1, 1, 1, 1, 1, 1, 1, 1, 1, 1, 1, 1, 1, 1, 1, 1, 1, 1, 1, 1, 1, 1, 1, 1, 1, 1, 1, 1, 1, 1, 1, 1, 1]\n",
      "Average actId per srcId =  5.099236641221374\n"
     ]
    }
   ],
   "source": [
    "# %% print averages\n",
    "print(av)\n",
    "print(\"Average actId per srcId = \", sum(av) / len(av))"
   ]
  },
  {
   "cell_type": "markdown",
   "id": "e8c62a34-2fa8-4fc9-b738-7bffa5f95f72",
   "metadata": {},
   "source": [
    "## ascertain experiment_id tier counts"
   ]
  },
  {
   "cell_type": "code",
   "execution_count": 24,
   "id": "d8be4826-cdc7-45e7-accc-c167e7d5ecb9",
   "metadata": {},
   "outputs": [
    {
     "name": "stdout",
     "output_type": "stream",
     "text": [
      "322: 322\n",
      "  ones: 104 32.3%\n",
      "  twos: 139 43.2%\n",
      "threes: 077 23.9%\n",
      " fours: 002  0.6%\n"
     ]
    }
   ],
   "source": [
    "# %% loops - expId\n",
    "ones, twos, threes, fours = [0 for _ in range(4)]\n",
    "for count1, exp in enumerate(expId.keys()):\n",
    "    # print(count1, exp)\n",
    "    tier = int(expId[exp][\"tier\"])\n",
    "    # add actId count to srcIds\n",
    "    # print(tier, exp)\n",
    "    # process tier\n",
    "    if tier == 1:\n",
    "        ones += 1\n",
    "    elif tier == 2:\n",
    "        twos += 1\n",
    "    elif tier == 3:\n",
    "        threes += 1\n",
    "    elif tier == 4:\n",
    "        fours += 1\n",
    "\n",
    "justLen1 = 7\n",
    "print(\"322:\", sum([ones, twos, threes, fours]))\n",
    "print(\"ones:\".rjust(justLen1), \"{:03d}\".format(ones), \"{:4.1f}%\".format((ones / 322) * 100))\n",
    "print(\"twos:\".rjust(justLen1), \"{:03d}\".format(twos), \"{:4.1f}%\".format((twos / 322) * 100))\n",
    "print(\"threes:\".rjust(justLen1), \"{:03d}\".format(threes), \"{:4.1f}%\".format((threes / 322) * 100))\n",
    "print(\"fours:\".rjust(justLen1), \"{:03d}\".format(fours), \"{:4.1f}%\".format((fours / 322) * 100))"
   ]
  }
 ],
 "metadata": {
  "kernelspec": {
   "display_name": "Python 3 (ipykernel)",
   "language": "python",
   "name": "python3"
  },
  "language_info": {
   "codemirror_mode": {
    "name": "ipython",
    "version": 3
   },
   "file_extension": ".py",
   "mimetype": "text/x-python",
   "name": "python",
   "nbconvert_exporter": "python",
   "pygments_lexer": "ipython3",
   "version": "3.10.6"
  }
 },
 "nbformat": 4,
 "nbformat_minor": 5
}
