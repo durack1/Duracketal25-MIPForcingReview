{
 "cells": [
  {
   "cell_type": "markdown",
   "id": "ffc9ff04-fb8f-44f7-b591-b267ae316039",
   "metadata": {},
   "source": [
    "# Code snippets and plots for Durack et al., input4MIPs paper"
   ]
  },
  {
   "cell_type": "raw",
   "id": "662f17eb-e60c-4e8d-8c86-f1b902c3173b",
   "metadata": {},
   "source": [
    "PJD 25 Sep 2023 - Added code to deal with multiple mip sponsorships\n",
    "PJD 24 Oct 2023 - Augmented to deal with multiple exp_id entries being sponsored across activities\n",
    " To-Do: Also see Docs/MyDocs/230510_Duracketal23-CMIP6Sunset/makeTables.py"
   ]
  },
  {
   "cell_type": "markdown",
   "id": "6f956181-ce06-45ae-a0e8-050051c0a95a",
   "metadata": {},
   "source": [
    "## imports"
   ]
  },
  {
   "cell_type": "code",
   "execution_count": 54,
   "id": "24d9e437-3f3e-49d1-9b61-74da44711d52",
   "metadata": {},
   "outputs": [],
   "source": [
    "import json\n",
    "import pdb\n",
    "from urllib.request import urlopen\n",
    "import numpy as np"
   ]
  },
  {
   "cell_type": "markdown",
   "id": "9b304cb8-a5a4-4f87-bd9e-265c8a51344d",
   "metadata": {},
   "source": [
    "## define paths"
   ]
  },
  {
   "cell_type": "code",
   "execution_count": 55,
   "id": "55eb389f-ba39-406d-88b5-87e0c47e9f15",
   "metadata": {},
   "outputs": [],
   "source": [
    "cmip6CvsPath = \"https://raw.githubusercontent.com/WCRP-CMIP/CMIP6_CVs/master/CMIP6_experiment_id.json\""
   ]
  },
  {
   "cell_type": "markdown",
   "id": "6816fad7-ab0c-486d-9ebd-b4b922ac9276",
   "metadata": {},
   "source": [
    "## load from github"
   ]
  },
  {
   "cell_type": "code",
   "execution_count": 56,
   "id": "81d74cfb-4f54-4a8c-b143-baaba7364f8c",
   "metadata": {},
   "outputs": [],
   "source": [
    "with urlopen(cmip6CvsPath) as url:\n",
    "    expId = json.load(url)"
   ]
  },
  {
   "cell_type": "code",
   "execution_count": 57,
   "id": "f5efdc41-e563-46e6-85bb-5f81b0dd392d",
   "metadata": {},
   "outputs": [
    {
     "data": {
      "text/plain": [
       "dict_keys(['experiment_id', 'version_metadata'])"
      ]
     },
     "execution_count": 57,
     "metadata": {},
     "output_type": "execute_result"
    }
   ],
   "source": [
    "expId.keys()"
   ]
  },
  {
   "cell_type": "code",
   "execution_count": 58,
   "id": "21116e5d-ee27-4dcc-bf8b-3be19c156e59",
   "metadata": {},
   "outputs": [
    {
     "name": "stdout",
     "output_type": "stream",
     "text": [
      "322\n",
      "1pctCO2\n",
      "{'activity_id': ['CMIP'], 'additional_allowed_model_components': ['AER', 'CHEM', 'BGC'], 'description': 'DECK: 1pctCO2', 'end_year': '', 'experiment': '1 percent per year increase in CO2', 'experiment_id': '1pctCO2', 'min_number_yrs_per_sim': '150', 'parent_activity_id': ['CMIP'], 'parent_experiment_id': ['piControl'], 'required_model_components': ['AOGCM'], 'start_year': '', 'sub_experiment_id': ['none'], 'tier': '1'}\n"
     ]
    }
   ],
   "source": [
    "exps = list(expId[\"experiment_id\"].keys())\n",
    "expIds = expId[\"experiment_id\"]\n",
    "print(len(exps))\n",
    "# Print first entry CMIP:1pctCO2\n",
    "print(exps[0])\n",
    "print(expIds[exps[0]])"
   ]
  },
  {
   "cell_type": "markdown",
   "id": "27cac0d5-5798-4df9-863e-cdf859c09973",
   "metadata": {},
   "source": [
    "## loop through entries - assign to MIPs"
   ]
  },
  {
   "cell_type": "code",
   "execution_count": 68,
   "id": "58952507-4755-483c-a3c4-53cb58858df8",
   "metadata": {},
   "outputs": [
    {
     "name": "stdout",
     "output_type": "stream",
     "text": [
      "66 ['DCPP', 'VolMIP']\n",
      "66 dcppC-forecast-addPinatubo 1 VolMIP else\n",
      "77 ['C4MIP', 'CDRMIP']\n",
      "77 esm-1pct-brch-1000PgC 1 CDRMIP else\n",
      "78 ['C4MIP', 'CDRMIP']\n",
      "78 esm-1pct-brch-2000PgC 1 CDRMIP else\n",
      "79 ['C4MIP', 'CDRMIP']\n",
      "79 esm-1pct-brch-750PgC 1 CDRMIP else\n",
      "80 ['C4MIP', 'CDRMIP']\n",
      "80 esm-1pctCO2 1 CDRMIP else\n",
      "81 ['C4MIP', 'CDRMIP']\n",
      "81 esm-bell-1000PgC 1 CDRMIP else\n",
      "82 ['C4MIP', 'CDRMIP']\n",
      "82 esm-bell-2000PgC 1 CDRMIP else\n",
      "83 ['C4MIP', 'CDRMIP']\n",
      "83 esm-bell-750PgC 1 CDRMIP else\n",
      "173 ['LS3MIP', 'LUMIP']\n",
      "173 land-hist 1 LUMIP else\n",
      "246 ['RFMIP', 'AerChemMIP']\n",
      "246 piClim-aer 1 AerChemMIP else\n",
      "248 ['RFMIP', 'AerChemMIP']\n",
      "248 piClim-control 1 AerChemMIP else\n",
      "291 ['ScenarioMIP', 'AerChemMIP']\n",
      "291 ssp370 1 AerChemMIP else\n",
      "dupeCnt1: 12\n"
     ]
    }
   ],
   "source": [
    "mips = {}\n",
    "dupeCnt1 = 0\n",
    "for n, exp in enumerate(exps):\n",
    "    actIds = expIds[exp][\"activity_id\"]\n",
    "    if len(actIds) > 1:\n",
    "        print(n, actIds)\n",
    "    actCount = len(actIds)\n",
    "    # loop through activity_id entries per experiment_id\n",
    "    for actCount, actId in enumerate(actIds):\n",
    "        if actCount == 0:  # deal with first activity_id, assign to actMaster\n",
    "            actMaster = actId\n",
    "            #print(n, exp, actCount, actId, \"if actCount == 0\")\n",
    "            if actId not in list(mips.keys()):\n",
    "                mips[actId] = {}\n",
    "                mips[actId][\"exps\"] = []\n",
    "            mips[actId][\"exps\"].append(exp)\n",
    "        else:  # deal with second or tertiary instance\n",
    "            dupeCnt1 += 1\n",
    "            print(n, exp, actCount, actId, \"else\")\n",
    "            # initiate mips to grab co-sponsor\n",
    "            if mips[actMaster].get(\"mips\") == None:\n",
    "                mips[actMaster][\"mips\"] = {}\n",
    "            if actId not in list(mips[actMaster][\"mips\"].keys()):\n",
    "                mips[actMaster][\"mips\"][actId] = []\n",
    "            mips[actMaster][\"mips\"][actId].append(exp)\n",
    "print(\"dupeCnt1:\", dupeCnt1)"
   ]
  },
  {
   "cell_type": "code",
   "execution_count": 63,
   "id": "3faad50e-2d35-4934-8928-24985ae63daf",
   "metadata": {},
   "outputs": [
    {
     "name": "stdout",
     "output_type": "stream",
     "text": [
      "['AerChemMIP', 'C4MIP', 'CDRMIP', 'CFMIP', 'CMIP', 'DAMIP', 'DCPP', 'FAFMIP', 'GMMIP', 'GeoMIP', 'HighResMIP', 'ISMIP6', 'LS3MIP', 'LUMIP', 'OMIP', 'PAMIP', 'PMIP', 'RFMIP', 'ScenarioMIP', 'VolMIP']\n"
     ]
    }
   ],
   "source": [
    "mipIds = list(mips.keys())\n",
    "mipIds.sort()\n",
    "print(mipIds)"
   ]
  },
  {
   "cell_type": "code",
   "execution_count": 70,
   "id": "f0c73540-a11a-40bc-a171-4ba82c39ce6b",
   "metadata": {},
   "outputs": [
    {
     "name": "stdout",
     "output_type": "stream",
     "text": [
      "AerChemMIP 39 0\n",
      "exps: ['hist-1950HC', 'hist-piAer', 'hist-piNTCF', 'histSST', 'histSST-1950HC', 'histSST-noLu', 'histSST-piAer', 'histSST-piCH4', 'histSST-piN2O', 'histSST-piNTCF', 'histSST-piO3', 'piClim-2xDMS', 'piClim-2xNOx', 'piClim-2xVOC', 'piClim-2xdust', 'piClim-2xfire', 'piClim-2xss', 'piClim-BC', 'piClim-CH4', 'piClim-HC', 'piClim-N2O', 'piClim-NH3', 'piClim-NOx', 'piClim-NTCF', 'piClim-O3', 'piClim-OC', 'piClim-SO2', 'piClim-VOC', 'ssp370-lowNTCF', 'ssp370-lowNTCFCH4', 'ssp370SST', 'ssp370SST-lowAer', 'ssp370SST-lowBC', 'ssp370SST-lowCH4', 'ssp370SST-lowNTCF', 'ssp370SST-lowNTCFCH4', 'ssp370SST-lowO3', 'ssp370SST-ssp126Lu', 'ssp370pdSST']\n",
      "mips: {}\n",
      "\n",
      "C4MIP 15 1\n",
      "exps: ['1pctCO2-bgc', '1pctCO2-rad', '1pctCO2Ndep', '1pctCO2Ndep-bgc', 'esm-1pct-brch-1000PgC', 'esm-1pct-brch-2000PgC', 'esm-1pct-brch-750PgC', 'esm-1pctCO2', 'esm-bell-1000PgC', 'esm-bell-2000PgC', 'esm-bell-750PgC', 'esm-ssp585', 'hist-bgc', 'ssp534-over-bgc', 'ssp585-bgc']\n",
      "mips: {'CDRMIP': ['esm-1pct-brch-1000PgC', 'esm-1pct-brch-2000PgC', 'esm-1pct-brch-750PgC', 'esm-1pctCO2', 'esm-bell-1000PgC', 'esm-bell-2000PgC', 'esm-bell-750PgC']}\n",
      "\n",
      "CDRMIP 13 0\n",
      "exps: ['1pctCO2-cdr', 'esm-pi-CO2pulse', 'esm-pi-cdr-pulse', 'esm-ssp534-over', 'esm-ssp585-ocn-alk', 'esm-ssp585-ocn-alk-stop', 'esm-ssp585-ssp126Lu-ext', 'esm-ssp585ext', 'esm-yr2010CO2-CO2pulse', 'esm-yr2010CO2-cdr-pulse', 'esm-yr2010CO2-control', 'esm-yr2010CO2-noemit', 'yr2010CO2']\n",
      "mips: {}\n",
      "\n",
      "CFMIP 24 0\n",
      "exps: ['a4SST', 'a4SSTice', 'a4SSTice-4xCO2', 'abrupt-0p5xCO2', 'abrupt-2xCO2', 'abrupt-solm4p', 'abrupt-solp4p', 'amip-4xCO2', 'amip-a4SST-4xCO2', 'amip-future4K', 'amip-lwoff', 'amip-m4K', 'amip-p4K', 'amip-p4K-lwoff', 'amip-piForcing', 'aqua-4xCO2', 'aqua-control', 'aqua-control-lwoff', 'aqua-p4K', 'aqua-p4K-lwoff', 'piSST', 'piSST-4xCO2', 'piSST-4xCO2-rad', 'piSST-pxK']\n",
      "mips: {}\n",
      "\n",
      "CMIP 14 0\n",
      "exps: ['1pctCO2', 'abrupt-4xCO2', 'amip', 'esm-hist', 'esm-hist-ext', 'esm-piControl', 'esm-piControl-spinup', 'historical', 'historical-cmip5', 'historical-ext', 'piControl', 'piControl-cmip5', 'piControl-spinup', 'piControl-spinup-cmip5']\n",
      "mips: {}\n",
      "\n",
      "DAMIP 23 0\n",
      "exps: ['hist-CO2', 'hist-GHG', 'hist-GHG-cmip5', 'hist-aer', 'hist-aer-cmip5', 'hist-all-aer2', 'hist-all-nat2', 'hist-nat', 'hist-nat-cmip5', 'hist-sol', 'hist-stratO3', 'hist-totalO3', 'hist-volc', 'ssp245-GHG', 'ssp245-aer', 'ssp245-cov-GHG', 'ssp245-cov-aer', 'ssp245-cov-fossil', 'ssp245-cov-modgreen', 'ssp245-cov-strgreen', 'ssp245-covid', 'ssp245-nat', 'ssp245-stratO3']\n",
      "mips: {}\n",
      "\n",
      "DCPP 26 1\n",
      "exps: ['dcppA-assim', 'dcppA-hindcast', 'dcppA-hindcast-niff', 'dcppA-historical-niff', 'dcppB-forecast', 'dcppC-amv-ExTrop-neg', 'dcppC-amv-ExTrop-pos', 'dcppC-amv-Trop-neg', 'dcppC-amv-Trop-pos', 'dcppC-amv-neg', 'dcppC-amv-pos', 'dcppC-atl-control', 'dcppC-atl-pacemaker', 'dcppC-atl-spg', 'dcppC-forecast-addAgung', 'dcppC-forecast-addElChichon', 'dcppC-forecast-addPinatubo', 'dcppC-hindcast-noAgung', 'dcppC-hindcast-noElChichon', 'dcppC-hindcast-noPinatubo', 'dcppC-ipv-NexTrop-neg', 'dcppC-ipv-NexTrop-pos', 'dcppC-ipv-neg', 'dcppC-ipv-pos', 'dcppC-pac-control', 'dcppC-pac-pacemaker']\n",
      "mips: {'VolMIP': ['dcppC-forecast-addPinatubo']}\n",
      "\n",
      "FAFMIP 8 0\n",
      "exps: ['faf-all', 'faf-antwater-stress', 'faf-heat', 'faf-heat-NA0pct', 'faf-heat-NA50pct', 'faf-passiveheat', 'faf-stress', 'faf-water']\n",
      "mips: {}\n",
      "\n",
      "GMMIP 6 0\n",
      "exps: ['amip-TIP', 'amip-TIP-nosh', 'amip-hist', 'amip-hld', 'hist-resAMO', 'hist-resIPO']\n",
      "mips: {}\n",
      "\n",
      "GeoMIP 11 0\n",
      "exps: ['G1', 'G6SST1', 'G6SST2-solar', 'G6SST2-sulfur', 'G6solar', 'G6sulfur', 'G7SST1-cirrus', 'G7SST2-cirrus', 'G7cirrus', 'futureSST-4xCO2-solar', 'piSST-4xCO2-solar']\n",
      "mips: {}\n",
      "\n",
      "HighResMIP 10 0\n",
      "exps: ['control-1950', 'highres-future', 'highresSST-4xCO2', 'highresSST-LAI', 'highresSST-future', 'highresSST-p4K', 'highresSST-present', 'highresSST-smoothed', 'hist-1950', 'spinup-1950']\n",
      "mips: {}\n",
      "\n",
      "ISMIP6 18 0\n",
      "exps: ['1pctCO2-4xext', '1pctCO2to4x-withism', 'historical-withism', 'ism-1pctCO2to4x-self', 'ism-1pctCO2to4x-std', 'ism-amip-std', 'ism-asmb-std', 'ism-bsmb-std', 'ism-ctrl-std', 'ism-historical-self', 'ism-historical-std', 'ism-lig127k-std', 'ism-pdControl-std', 'ism-piControl-self', 'ism-ssp585-self', 'ism-ssp585-std', 'piControl-withism', 'ssp585-withism']\n",
      "mips: {}\n",
      "\n",
      "LS3MIP 19 1\n",
      "exps: ['amip-lfmip-pObs', 'amip-lfmip-pdLC', 'amip-lfmip-rmLC', 'land-hist', 'land-hist-cruNcep', 'land-hist-princeton', 'land-hist-wfdei', 'land-ssp126', 'land-ssp434', 'land-ssp585', 'lfmip-initLC', 'lfmip-pdLC', 'lfmip-pdLC-cruNcep', 'lfmip-pdLC-princeton', 'lfmip-pdLC-wfdei', 'lfmip-rmLC', 'lfmip-rmLC-cruNcep', 'lfmip-rmLC-princeton', 'lfmip-rmLC-wfdei']\n",
      "mips: {'LUMIP': ['land-hist']}\n",
      "\n",
      "LUMIP 19 0\n",
      "exps: ['deforest-globe', 'esm-ssp585-ssp126Lu', 'hist-noLu', 'land-cCO2', 'land-cClim', 'land-crop-grass', 'land-crop-noFert', 'land-crop-noIrrig', 'land-crop-noIrrigFert', 'land-hist-altLu1', 'land-hist-altLu2', 'land-hist-altStartYear', 'land-noFire', 'land-noLu', 'land-noPasture', 'land-noShiftCultivate', 'land-noWoodHarv', 'ssp126-ssp370Lu', 'ssp370-ssp126Lu']\n",
      "mips: {}\n",
      "\n",
      "OMIP 4 0\n",
      "exps: ['omip1', 'omip1-spunup', 'omip2', 'omip2-spunup']\n",
      "mips: {}\n",
      "\n",
      "PAMIP 24 0\n",
      "exps: ['amip-climSIC', 'amip-climSST', 'futSST-pdSIC', 'modelSST-futArcSIC', 'modelSST-pdSIC', 'pa-futAntSIC', 'pa-futAntSIC-ext', 'pa-futArcSIC', 'pa-futArcSIC-ext', 'pa-pdSIC', 'pa-pdSIC-ext', 'pa-piAntSIC', 'pa-piArcSIC', 'pdSST-futAntSIC', 'pdSST-futArcSIC', 'pdSST-futArcSICSIT', 'pdSST-futBKSeasSIC', 'pdSST-futOkhotskSIC', 'pdSST-pdSIC', 'pdSST-pdSICSIT', 'pdSST-piAntSIC', 'pdSST-piArcSIC', 'piSST-pdSIC', 'piSST-piSIC']\n",
      "mips: {}\n",
      "\n",
      "PMIP 9 0\n",
      "exps: ['esm-past1000', 'lgm', 'lig127k', 'midHolocene', 'midPliocene-eoi400', 'past1000', 'past1000-solaronly', 'past1000-volconly', 'past2k']\n",
      "mips: {}\n",
      "\n",
      "RFMIP 17 1\n",
      "exps: ['hist-spAer-aer', 'hist-spAer-all', 'piClim-4xCO2', 'piClim-aer', 'piClim-anthro', 'piClim-control', 'piClim-ghg', 'piClim-histaer', 'piClim-histall', 'piClim-histghg', 'piClim-histnat', 'piClim-lu', 'piClim-spAer-aer', 'piClim-spAer-anthro', 'piClim-spAer-histaer', 'piClim-spAer-histall', 'rad-irf']\n",
      "mips: {'AerChemMIP': ['piClim-aer', 'piClim-control']}\n",
      "\n",
      "ScenarioMIP 12 1\n",
      "exps: ['rcp26-cmip5', 'rcp45-cmip5', 'rcp60-cmip5', 'rcp85-cmip5', 'ssp119', 'ssp126', 'ssp245', 'ssp370', 'ssp434', 'ssp460', 'ssp534-over', 'ssp585']\n",
      "mips: {'AerChemMIP': ['ssp370']}\n",
      "\n",
      "VolMIP 11 0\n",
      "exps: ['control-slab', 'volc-cluster-21C', 'volc-cluster-ctrl', 'volc-cluster-mill', 'volc-long-eq', 'volc-long-hlN', 'volc-long-hlS', 'volc-pinatubo-full', 'volc-pinatubo-slab', 'volc-pinatubo-strat', 'volc-pinatubo-surf']\n",
      "mips: {}\n",
      "\n"
     ]
    }
   ],
   "source": [
    "mipsn = {}\n",
    "dupeCnt2 = 0\n",
    "for mipId in mipIds:\n",
    "    expCnt = len(mips[mipId][\"exps\"])\n",
    "    expsn = mips[mipId][\"exps\"]\n",
    "    if \"mips\" in list(mips[mipId].keys()):\n",
    "        dupeCnt2 = len(mips[mipId][\"mips\"])\n",
    "        mipsn = mips[mipId][\"mips\"]\n",
    "    print(mipId, expCnt, dupeCnt2)\n",
    "    dupeCnt2 = 0  # redeclare dupeCnt2 counter\n",
    "    print(\"exps:\", expsn)\n",
    "    print(\"mips:\", mipsn)\n",
    "    mipsn = {}  # redeclare empty dict\n",
    "    print()"
   ]
  },
  {
   "cell_type": "code",
   "execution_count": null,
   "id": "b1ea1b0c-b971-4c26-92d7-e6e44d9be2b2",
   "metadata": {},
   "outputs": [],
   "source": []
  },
  {
   "cell_type": "code",
   "execution_count": null,
   "id": "917eaee5-653c-4218-bc27-865a793e642d",
   "metadata": {},
   "outputs": [],
   "source": []
  }
 ],
 "metadata": {
  "kernelspec": {
   "display_name": "Python 3 (ipykernel)",
   "language": "python",
   "name": "python3"
  },
  "language_info": {
   "codemirror_mode": {
    "name": "ipython",
    "version": 3
   },
   "file_extension": ".py",
   "mimetype": "text/x-python",
   "name": "python",
   "nbconvert_exporter": "python",
   "pygments_lexer": "ipython3",
   "version": "3.10.6"
  }
 },
 "nbformat": 4,
 "nbformat_minor": 5
}
